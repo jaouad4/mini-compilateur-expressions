{
 "cells": [
  {
   "cell_type": "markdown",
   "id": "1484a71f",
   "metadata": {},
   "source": [
    "## 1. Analyse lexicale\n",
    "\n",
    "L'extraction des tokens de la chaîne en fonction des expressions régulières définies :  \n",
    "Identifiants : position, initiale, vitesse.  \n",
    "Constantes : 60.  \n",
    "Opérateurs : :=, +, *.  "
   ]
  },
  {
   "cell_type": "code",
   "execution_count": 4,
   "id": "8b957bad",
   "metadata": {},
   "outputs": [
    {
     "name": "stdout",
     "output_type": "stream",
     "text": [
      "Tokens lexicaux extraits : [('IDF', 'position'), ('OP_ASSIGN', ':='), ('IDF', 'initiale'), ('OP_ADD', '+'), ('OP_ADD', '+'), ('IDF', 'vitesse'), ('OP_MUL', '*'), ('CTE', '60')]\n"
     ]
    }
   ],
   "source": [
    "#importer le module re, qui est utilisé pour manipuler les expressions régulières (regular expressions).\n",
    "import re\n",
    "\n",
    "class SimpleLexer:\n",
    "    # Règles lexicales : liste de tuples (nom du token, expression régulière)\n",
    "    rules = [\n",
    "        (\"IDF\", r\"[a-zA-Z_][a-zA-Z0-9_]*\"),  # Identifiant\n",
    "        (\"CTE\", r\"[0-9]+\"),                 # Constante entière\n",
    "        (\"OP_ASSIGN\", r\":=\"),               # Opérateur d'affectation\n",
    "        (\"OP_ADD\", r\"\\+\"),                  # Opérateur d'addition\n",
    "        (\"OP_MUL\", r\"\\*\"),                  # Opérateur de multiplication\n",
    "        (\"WHITESPACE\", r\"[ \\t]+\"),          # Espaces (à ignorer)\n",
    "    ]\n",
    "\n",
    "    def __init__(self):\n",
    "        self.tokens = []\n",
    "\n",
    "    def tokenize(self, text):\n",
    "        position = 0\n",
    "        while position < len(text):\n",
    "            match = None\n",
    "            for token_name, token_regex in self.rules:\n",
    "                regex = re.compile(token_regex)\n",
    "                match = regex.match(text, position)\n",
    "                if match:\n",
    "                    value = match.group(0)\n",
    "                    if token_name != \"WHITESPACE\":  # On ignore les espaces\n",
    "                        self.tokens.append((token_name, value))\n",
    "                    position += len(value)\n",
    "                    break\n",
    "            if not match:\n",
    "                raise ValueError(f\"Erreur lexicale : caractère inattendu '{text[position]}'\")\n",
    "        return self.tokens\n",
    "\n",
    "# Tester l'analyseur lexical\n",
    "lexer = SimpleLexer()\n",
    "input_code = \"position:= initiale ++ vitesse * 60\"\n",
    "tokens = lexer.tokenize(input_code)\n",
    "print(\"Tokens lexicaux extraits :\", tokens)\n"
   ]
  },
  {
   "attachments": {
    "image-5.png": {
     "image/png": "[encoded data removed]"
    }
   },
   "cell_type": "markdown",
   "id": "9ba6b988",
   "metadata": {},
   "source": [
    "## 2. Analyse Syntaxique\n",
    "La définition de la grammaire\n",
    "![image-5.png](attachment:image-5.png)"
   ]
  },
  {
   "cell_type": "code",
   "execution_count": 5,
   "id": "51b7077b",
   "metadata": {},
   "outputs": [
    {
     "name": "stdout",
     "output_type": "stream",
     "text": [
      "Erreur syntaxique : facteur attendu.\n",
      "Erreur syntaxique : opérande manquant après '+'.\n",
      "Erreur syntaxique : affectation invalide.\n",
      "Analyse syntaxique échouée.\n"
     ]
    }
   ],
   "source": [
    "class SimpleParser:\n",
    "    def __init__(self, tokens):\n",
    "        self.tokens = tokens\n",
    "        self.current_index = 0\n",
    "\n",
    "    def current_token(self):\n",
    "        if self.current_index < len(self.tokens):\n",
    "            return self.tokens[self.current_index]\n",
    "        return None\n",
    "\n",
    "    def advance(self):\n",
    "        self.current_index += 1\n",
    "\n",
    "    def match(self, token_type):\n",
    "        token = self.current_token()\n",
    "        if token and token[0] == token_type:\n",
    "            self.advance()\n",
    "            return True\n",
    "        return False\n",
    "\n",
    "    def parse(self):\n",
    "        return self.parse_assignment()\n",
    "\n",
    "    def parse_assignment(self):\n",
    "        # Règle : <S> ::= <IDF> \":=\" <EXP>\n",
    "        if self.match(\"IDF\") and self.match(\"OP_ASSIGN\") and self.parse_expression():\n",
    "            return True\n",
    "        print(\"Erreur syntaxique : affectation invalide.\")\n",
    "        return False\n",
    "\n",
    "    def parse_expression(self):\n",
    "        # Règle : <EXP> ::= <EXP> \"+\" <EXP> | <EXP> \"*\" <EXP> | <IDF> | <CTE>\n",
    "        if self.parse_term():\n",
    "            while self.match(\"OP_ADD\"):  # Gestion des opérations +\n",
    "                if not self.parse_term():\n",
    "                    print(\"Erreur syntaxique : opérande manquant après '+'.\")\n",
    "                    return False\n",
    "            return True\n",
    "        return False\n",
    "\n",
    "    def parse_term(self):\n",
    "        # Gestion des termes pour * ou valeurs simples\n",
    "        if self.parse_factor():\n",
    "            while self.match(\"OP_MUL\"):  # Gestion des opérations *\n",
    "                if not self.parse_factor():\n",
    "                    print(\"Erreur syntaxique : opérande manquant après '*'.\")\n",
    "                    return False\n",
    "            return True\n",
    "        return False\n",
    "\n",
    "    def parse_factor(self):\n",
    "        # Règle : <FACTOR> ::= <IDF> | <CTE>\n",
    "        if self.match(\"IDF\") or self.match(\"CTE\"):\n",
    "            return True\n",
    "        print(\"Erreur syntaxique : facteur attendu.\")\n",
    "        return False\n",
    "\n",
    "# Tester l'analyseur syntaxique\n",
    "parser = SimpleParser(tokens)\n",
    "if parser.parse():\n",
    "    print(\"Analyse syntaxique réussie.\")\n",
    "else:\n",
    "    print(\"Analyse syntaxique échouée.\")\n"
   ]
  },
  {
   "cell_type": "code",
   "execution_count": null,
   "id": "2d16de2d",
   "metadata": {},
   "outputs": [],
   "source": []
  }
 ],
 "metadata": {
  "kernelspec": {
   "display_name": "Python 3 (ipykernel)",
   "language": "python",
   "name": "python3"
  },
  "language_info": {
   "codemirror_mode": {
    "name": "ipython",
    "version": 3
   },
   "file_extension": ".py",
   "mimetype": "text/x-python",
   "name": "python",
   "nbconvert_exporter": "python",
   "pygments_lexer": "ipython3",
   "version": "3.9.13"
  }
 },
 "nbformat": 4,
 "nbformat_minor": 5
}
